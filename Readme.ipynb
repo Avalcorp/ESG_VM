{
  "cells": [
    {
      "cell_type": "code",
      "execution_count": null,
      "metadata": {},
      "outputs": [],
      "source": [
        "# Importando as bibliotecas necessárias",
        "import matplotlib.pyplot as plt",
        "import numpy as np",
        "",
        "# Definindo o intervalo de x",
        "x = np.linspace(-10, 10, 400)",
        "",
        "# Definindo a função para a parábola: y = x^2",
        "y = x**2",
        "",
        "# Criando o gráfico",
        "plt.figure(figsize=(6, 6))",
        "plt.plot(x, y)",
        "",
        "# Adicionando títulos e rótulos",
        "plt.title('Gráfico de uma Parábola')",
        "plt.xlabel('x')",
        "plt.ylabel('y')",
        "",
        "# Exibindo o gráfico",
        "plt.show()"
      ]
    }
  ],
  "metadata": {
    "kernelspec": {
      "display_name": "Python 3",
      "language": "python",
      "name": "python3"
    },
    "language_info": {
      "codemirror_mode": {
        "name": "ipython",
        "version": 3
      },
      "file_extension": ".py",
      "mimetype": "text/x-python",
      "name": "python",
      "nbconvert_exporter": "python",
      "pygments_lexer": "ipython3",
      "version": ""
    }
  },
  "nbformat": 4,
  "nbformat_minor": 5
}
